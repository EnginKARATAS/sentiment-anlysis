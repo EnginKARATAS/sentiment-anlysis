{
 "cells": [
  {
   "cell_type": "code",
   "execution_count": 30,
   "metadata": {},
   "outputs": [],
   "source": [
    "import base64\n",
    "value = a.name\n",
    "value = value[22:]\n",
    "if len(value) % 4 != 0: #check if multiple of 4\n",
    "    while len(value) % 4 != 0:\n",
    "        value = value + \"=\"\n",
    "    req_str = base64.b64decode(value)\n",
    "else:\n",
    "    req_str = base64.b64decode(value)\n",
    "\n",
    "filename = 'x.png' # I assume you have a way of picking unique filenames\n",
    "with open(filename, 'wb') as f:\n",
    "    f.write(req_str)"
   ]
  },
  {
   "cell_type": "code",
   "execution_count": 31,
   "metadata": {},
   "outputs": [
    {
     "data": {
      "text/plain": [
       "b'u\\xabZ\\x8af\\xa0{\\xfag\\x81\\xb6\\xac{\\xae\"T\\x13\\x91\\xc3B\\x86\\x82\\x80\\x00\\x00\\x03RR\\x11\\x14\\x80\\x00'"
      ]
     },
     "execution_count": 31,
     "metadata": {},
     "output_type": "execute_result"
    }
   ],
   "source": [
    "req_str"
   ]
  },
  {
   "cell_type": "code",
   "execution_count": 32,
   "metadata": {},
   "outputs": [],
   "source": [
    "filename = 'x.png' # I assume you have a way of picking unique filenames\n",
    "with open(filename, 'wb') as f:\n",
    "    f.write(req_str[23:])"
   ]
  },
  {
   "cell_type": "code",
   "execution_count": 26,
   "metadata": {},
   "outputs": [
    {
     "data": {
      "text/plain": [
       "'sdfasdfs'"
      ]
     },
     "execution_count": 26,
     "metadata": {},
     "output_type": "execute_result"
    }
   ],
   "source": []
  },
  {
   "cell_type": "code",
   "execution_count": 27,
   "metadata": {},
   "outputs": [
    {
     "name": "stdout",
     "output_type": "stream",
     "text": [
      "asfs\n"
     ]
    }
   ],
   "source": []
  },
  {
   "cell_type": "code",
   "execution_count": 24,
   "metadata": {},
   "outputs": [
    {
     "data": {
      "text/plain": [
       "'sdfasdfs'"
      ]
     },
     "execution_count": 24,
     "metadata": {},
     "output_type": "execute_result"
    }
   ],
   "source": [
    "a"
   ]
  },
  {
   "cell_type": "code",
   "execution_count": null,
   "metadata": {},
   "outputs": [],
   "source": []
  }
 ],
 "metadata": {
  "interpreter": {
   "hash": "b5623c593edf3a9c30fecf3e392f1a3c31f722d7f93243239e2241963cc60577"
  },
  "kernelspec": {
   "display_name": "Python 3.8.8 ('base')",
   "language": "python",
   "name": "python3"
  },
  "language_info": {
   "codemirror_mode": {
    "name": "ipython",
    "version": 3
   },
   "file_extension": ".py",
   "mimetype": "text/x-python",
   "name": "python",
   "nbconvert_exporter": "python",
   "pygments_lexer": "ipython3",
   "version": "3.8.8"
  },
  "orig_nbformat": 4
 },
 "nbformat": 4,
 "nbformat_minor": 2
}
