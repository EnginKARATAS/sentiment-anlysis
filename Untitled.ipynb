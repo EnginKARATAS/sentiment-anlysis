{
 "cells": [
  {
   "cell_type": "code",
   "execution_count": 4,
   "id": "ec19d226",
   "metadata": {},
   "outputs": [],
   "source": [
    "consumer_key = \"OgQAffhhNj8yuJPiXD4qqW3c4\" \n",
    "consumer_secret = \"63aTmsMipYKbS77rsKZLERgPCjI2Jxzup6LFBeDCwJn9hWvH03\" \n",
    "access_token = \"1374444599461113862-gIR01S0nsAZoItZVSoXk5cLFUeKrTq\"  \n",
    "access_token_secret = \"QrjxLWkz7K1YhJpq3LJZhMaYh5PIQ46d0626kbfzXtjcO\" "
   ]
  },
  {
   "cell_type": "code",
   "execution_count": 7,
   "id": "2a726e22",
   "metadata": {},
   "outputs": [],
   "source": [
    "import tweepy\n",
    "from config import *\n",
    "\n",
    "auth = tweepy.OAuthHandler(consumer_key, consumer_secret)\n",
    "auth.set_access_token(access_token, access_token_secret)\n",
    "\n",
    "api = tweepy.API(auth)"
   ]
  },
  {
   "cell_type": "code",
   "execution_count": 11,
   "id": "9068b134",
   "metadata": {},
   "outputs": [],
   "source": [
    "mentions = api.mentions_timeline()"
   ]
  },
  {
   "cell_type": "code",
   "execution_count": 13,
   "id": "373ab630",
   "metadata": {},
   "outputs": [
    {
     "data": {
      "text/plain": [
       "{'hashtags': [],\n",
       " 'symbols': [],\n",
       " 'user_mentions': [{'screen_name': 'P5Turkiye',\n",
       "   'name': 'P5.Js Turkiye',\n",
       "   'id': 1374444599461113862,\n",
       "   'id_str': '1374444599461113862',\n",
       "   'indices': [81, 91]}],\n",
       " 'urls': [{'url': 'https://t.co/BJryrxHaW0',\n",
       "   'expanded_url': 'https://twitter.com/p5Turkiye',\n",
       "   'display_url': 'twitter.com/p5Turkiye',\n",
       "   'indices': [56, 79]}],\n",
       " 'media': [{'id': 1463226185673027597,\n",
       "   'id_str': '1463226185673027597',\n",
       "   'indices': [92, 115],\n",
       "   'media_url': 'http://pbs.twimg.com/media/FE5sdp8XMA0XI9M.png',\n",
       "   'media_url_https': 'https://pbs.twimg.com/media/FE5sdp8XMA0XI9M.png',\n",
       "   'url': 'https://t.co/XUhclWxXgD',\n",
       "   'display_url': 'pic.twitter.com/XUhclWxXgD',\n",
       "   'expanded_url': 'https://twitter.com/engineerinengin/status/1463226222008229888/photo/1',\n",
       "   'type': 'photo',\n",
       "   'sizes': {'thumb': {'w': 136, 'h': 136, 'resize': 'crop'},\n",
       "    'small': {'w': 680, 'h': 122, 'resize': 'fit'},\n",
       "    'large': {'w': 757, 'h': 136, 'resize': 'fit'},\n",
       "    'medium': {'w': 757, 'h': 136, 'resize': 'fit'}}}]}"
      ]
     },
     "execution_count": 13,
     "metadata": {},
     "output_type": "execute_result"
    }
   ],
   "source": [
    "mentions[0].entities"
   ]
  },
  {
   "cell_type": "code",
   "execution_count": null,
   "id": "bbeda520",
   "metadata": {},
   "outputs": [],
   "source": []
  }
 ],
 "metadata": {
  "kernelspec": {
   "display_name": "Python 3",
   "language": "python",
   "name": "python3"
  },
  "language_info": {
   "codemirror_mode": {
    "name": "ipython",
    "version": 3
   },
   "file_extension": ".py",
   "mimetype": "text/x-python",
   "name": "python",
   "nbconvert_exporter": "python",
   "pygments_lexer": "ipython3",
   "version": "3.8.8"
  }
 },
 "nbformat": 4,
 "nbformat_minor": 5
}
